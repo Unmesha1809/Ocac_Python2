{
  "cells": [
    {
      "cell_type": "code",
      "execution_count": null,
      "metadata": {
        "id": "NbOPGQwRP_5g"
      },
      "outputs": [],
      "source": [
        "1. check Maximum number of a list of numbers in Python\n",
        "2. Python Program for factorial of a number\n",
        "3. Python Program for simple interest\n",
        "4. Python Program for compound interest\n",
        "5. Python Program to check Armstrong Number\n",
        "6. Python Program for Program to find area of a circle\n",
        "7. Python program to print all Prime numbers in an Interval\n",
        "8. Python program to check whether a number is Prime or not\n",
        "9. Python Program for n-th Fibonacci number\n",
        "10. Python Program for How to check if a given number is Fibonacci number?\n",
        "11. Python Program for n\\’th multiple of a number in Fibonacci Series\n",
        "12. Python Program for Sum of squares of first n natural numbers\n",
        "13. Python Program for cube sum of first n natural numbers"
      ]
    },
    {
      "cell_type": "code",
      "execution_count": null,
      "metadata": {
        "id": "2pfT1AnLhwAc",
        "outputId": "2aba4b9e-06b5-4b77-8fa1-de62d0804576"
      },
      "outputs": [
        {
          "name": "stdout",
          "output_type": "stream",
          "text": [
            "90\n"
          ]
        }
      ],
      "source": [
        "#1.check maximum number of list of numbers in pyhton.\n",
        "p=[23,45,67,78,89,90,34,23,12] #define the list\n",
        "print(max(p)) #using max function to get the maximum element from the list"
      ]
    },
    {
      "cell_type": "code",
      "execution_count": null,
      "metadata": {
        "id": "0znGy_WKhwAe",
        "outputId": "543946b9-8030-4a0d-d43e-44aa8a105eac"
      },
      "outputs": [
        {
          "name": "stdout",
          "output_type": "stream",
          "text": [
            "3628800\n"
          ]
        }
      ],
      "source": [
        "#2.pyhton program for factorial of a number\n",
        "a=int(input(\"enter a number : \")) #input program for enter a number\n",
        "fact=1 #define the multiplicative identity to get the factorial\n",
        "for n in range(1,a+1): #using for loop to get the fact variable updated and calculated till the last number which user enetered\n",
        "    fact=fact*n #using for update the factorial\n",
        "print(fact) #printing the final value of factorial of given number\n"
      ]
    },
    {
      "cell_type": "code",
      "execution_count": null,
      "metadata": {
        "id": "66_O2CcrhwAe",
        "outputId": "ee1daef0-7e38-41be-b18e-dc6c984fdaf9"
      },
      "outputs": [
        {
          "name": "stdout",
          "output_type": "stream",
          "text": [
            "simple intrest is : $ 80.0\n"
          ]
        }
      ],
      "source": [
        "#3. Python Program for simple interest\n",
        "def simple_intrest(p,t,r): #define a liabrary\n",
        "    si=(p*t*r)/100\n",
        "    return si #return statement for define liabrary\n",
        "principal=float(input(\"enter the principal for simple intrest\"))\n",
        "time=float(input(\"enter the time for simple intrest\"))\n",
        "rate=float(input(\"enter the rate of intrest for simple intrest\"))\n",
        "intrest=simple_intrest(principal,time,rate) #calculate simple intrest using a defined liabrary\n",
        "print(\"simple intrest is : $\",intrest) #print function\n"
      ]
    },
    {
      "cell_type": "code",
      "execution_count": null,
      "metadata": {
        "id": "MfVQ9kjohwAf",
        "outputId": "86c8ce2d-bea8-4786-9c8b-4cd396db9318"
      },
      "outputs": [
        {
          "name": "stdout",
          "output_type": "stream",
          "text": [
            "simple intrest is : $ 400.0\n"
          ]
        }
      ],
      "source": [
        "#another way of question 3\n",
        "p=float(input(\"enter the principal for simple intrest\")) #giving principal input\n",
        "t=float(input(\"enter the time for simple intrest\")) #giving time input\n",
        "r=float(input(\"enter the rate of intrest for simple intrest\")) #giving rate of intrest input\n",
        "si=(p*t*r)/100 #calculate si\n",
        "print(\"simple intrest is : $\",si) #print simple intrest"
      ]
    },
    {
      "cell_type": "code",
      "execution_count": null,
      "metadata": {
        "id": "ft6lvgI8hwAf",
        "outputId": "f3daed2f-531f-4177-e791-57f13ce32cee"
      },
      "outputs": [
        {
          "name": "stdout",
          "output_type": "stream",
          "text": [
            "The amount of money accumulated after 10 years, including interest, is: 1638.62\n",
            "The interest earned is: 638.62\n"
          ]
        }
      ],
      "source": [
        "#4. Python Program for compound interest\n",
        "def calculate_compound_interest(principal, rate, times_compounded, years):\n",
        "    rate = rate / 100 # Convert the annual rate from percentage to decimal\n",
        "    amount = principal * (1 + rate / times_compounded) ** (times_compounded * years) #Calculate compound interest\n",
        "    interest = amount - principal # Calculate the interest earned\n",
        "    return amount, interest\n",
        "# Input values\n",
        "P = float(input(\"Enter the principal amount: \"))\n",
        "r = float(input(\"Enter the annual interest rate (in %): \"))\n",
        "n = int(input(\"Enter the number of times the interest is compounded per year: \"))\n",
        "t = int(input(\"Enter the number of years the money is invested or borrowed for: \"))\n",
        "amount, interest = calculate_compound_interest(P, r, n, t) # Calculate compound interest\n",
        "\n",
        "print(f\"The amount of money accumulated after {t} years, including interest, is: {amount:.2f}\")\n",
        "print(f\"The interest earned is: {interest:.2f}\")\n"
      ]
    },
    {
      "cell_type": "code",
      "execution_count": null,
      "metadata": {
        "id": "onDgPEv5hwAg",
        "outputId": "1f6df557-3ec8-46c6-f1a8-58d10f709bd6"
      },
      "outputs": [
        {
          "name": "stdout",
          "output_type": "stream",
          "text": [
            "24 is not an Armstrong number.\n"
          ]
        }
      ],
      "source": [
        "#5. Python Program to check Armstrong Number\n",
        "def is_armstrong_number(number):\n",
        "    num_str = str(number) # Convert the number to a string to easily iterate over digits\n",
        "    num_digits = len(num_str)  # Calculate the number of digits\n",
        "    sum_of_powers = 0  # Initialize sum of powers\n",
        "    for digit in num_str:\n",
        "        sum_of_powers += int(digit) ** num_digits # Calculate the sum of each digit raised to the power of num_digits\n",
        "    return sum_of_powers == number #the sum of powers is equal to the original number\n",
        "\n",
        "number = int(input(\"Enter a number: \")) # Input from the user\n",
        "\n",
        "if is_armstrong_number(number):\n",
        "    print(f\"{number} is an Armstrong number.\")\n",
        "else:\n",
        "    print(f\"{number} is not an Armstrong number.\") # Check if the number is an Armstrong number\n"
      ]
    },
    {
      "cell_type": "code",
      "execution_count": null,
      "metadata": {
        "id": "dlZASrMbhwAh",
        "outputId": "05245bad-0072-4b1d-eac5-151abdb93d62"
      },
      "outputs": [
        {
          "name": "stdout",
          "output_type": "stream",
          "text": [
            "the area of the circle is : 154.0\n"
          ]
        }
      ],
      "source": [
        "#6. Python Program for Program to find area of a circle\n",
        "def area_of_circle(radius):\n",
        "    area=22/7*radius*radius #calculate area formula\n",
        "    return area\n",
        "r=float(input(\"enter the radius of circle : \")) #input statement for user\n",
        "a=area_of_circle(r) #call the liabrary to use it\n",
        "print(f\"the area of the circle is :\",a) #output statement"
      ]
    },
    {
      "cell_type": "code",
      "execution_count": null,
      "metadata": {
        "id": "Jdoi564ChwAh",
        "outputId": "a321306e-914e-44c2-dcdb-08ecd45153a1"
      },
      "outputs": [
        {
          "name": "stdout",
          "output_type": "stream",
          "text": [
            "Prime numbers between 1 and 100 are: 2\n",
            "3\n",
            "5\n",
            "7\n",
            "11\n",
            "13\n",
            "17\n",
            "19\n",
            "23\n",
            "29\n",
            "31\n",
            "37\n",
            "41\n",
            "43\n",
            "47\n",
            "53\n",
            "59\n",
            "61\n",
            "67\n",
            "71\n",
            "73\n",
            "79\n",
            "83\n",
            "89\n",
            "97\n"
          ]
        }
      ],
      "source": [
        "#7. Python program to print all Prime numbers in an Interval\n",
        "def is_prime(n):\n",
        "    \"\"\"Check if a number is prime.\"\"\"\n",
        "    if n <= 1:\n",
        "        return False\n",
        "    if n <= 3:\n",
        "        return True\n",
        "    if n % 2 == 0 or n % 3 == 0:\n",
        "        return False\n",
        "    i = 5\n",
        "    while i * i <= n:\n",
        "        if n % i == 0 or n % (i + 2) == 0:\n",
        "            return False\n",
        "        i += 6\n",
        "    return True\n",
        "\n",
        "def print_primes_in_interval(start, end):\n",
        "    \"\"\"Print all prime numbers in the interval [start, end].\"\"\"\n",
        "    for num in range(start, end + 1):\n",
        "        if is_prime(num):\n",
        "            print(num)\n",
        "\n",
        "# Input the interval from the user\n",
        "start = int(input(\"Enter the start of the interval: \"))\n",
        "end = int(input(\"Enter the end of the interval: \"))\n",
        "\n",
        "# Print all prime numbers in the interval\n",
        "print(f\"Prime numbers between {start} and {end} are:\")\n",
        "print_primes_in_interval(start, end)\n"
      ]
    },
    {
      "cell_type": "code",
      "execution_count": null,
      "metadata": {
        "id": "SggIcQjrhwAi",
        "outputId": "7dca42a6-4e12-4d7d-fe35-0459f2fe655f"
      },
      "outputs": [
        {
          "name": "stdout",
          "output_type": "stream",
          "text": [
            "237 is not a prime number.\n"
          ]
        }
      ],
      "source": [
        "#8. Python program to check whether a number is Prime or not\n",
        "def is_prime(n):\n",
        "    #heck if a number is prime.\n",
        "    if n <= 1:\n",
        "        return False\n",
        "    if n <= 3:\n",
        "        return True\n",
        "    if n % 2 == 0 or n % 3 == 0:\n",
        "        return False\n",
        "    i = 5\n",
        "    while i * i <= n:\n",
        "        if n % i == 0 or n % (i + 2) == 0:\n",
        "            return False\n",
        "        i += 6\n",
        "    return True\n",
        "\n",
        "# Input from the user\n",
        "number = int(input(\"Enter a number: \"))\n",
        "\n",
        "# Check if the number is prime\n",
        "if is_prime(number):\n",
        "    print(f\"{number} is a prime number.\")\n",
        "else:\n",
        "    print(f\"{number} is not a prime number.\")\n"
      ]
    },
    {
      "cell_type": "code",
      "execution_count": null,
      "metadata": {
        "id": "M9mKbDQzhwAi",
        "outputId": "c8b859b3-af58-4a09-e0cc-c06b116d301b"
      },
      "outputs": [
        {
          "name": "stdout",
          "output_type": "stream",
          "text": [
            "The 7-th Fibonacci number is: 8\n"
          ]
        }
      ],
      "source": [
        "#9. Python Program for n-th Fibonacci number\n",
        "def fibonacci_number(n):\n",
        "    if n <= 0:\n",
        "        return \"Invalid input, n should be a positive integer.\"\n",
        "    elif n == 1:\n",
        "        return 0\n",
        "    elif n == 2:\n",
        "        return 1\n",
        "    a=0\n",
        "    b=1\n",
        "    for i in range(n - 2):\n",
        "        a, b = b, a + b\n",
        "    return b\n",
        "\n",
        "# Input from the user\n",
        "n = int(input(\"Enter the position of the Fibonacci number: \"))\n",
        "\n",
        "# Get the n-th Fibonacci number\n",
        "fib_number = fibonacci_number(n)\n",
        "print(f\"The {n}-th Fibonacci number is: {fib_number}\")\n"
      ]
    },
    {
      "cell_type": "code",
      "execution_count": null,
      "metadata": {
        "id": "vnQgWvKxhwAj",
        "outputId": "b8b13b61-7077-4246-c6a5-b70ccd32bc10"
      },
      "outputs": [
        {
          "name": "stdout",
          "output_type": "stream",
          "text": [
            "The sum of the squares of the first 10 natural numbers is: 385.0\n"
          ]
        }
      ],
      "source": [
        "#10. Python Program for Sum of squares of first n natural numbers\n",
        "def sum_of_squares(n):\n",
        "    return n * (n + 1) * (2 * n + 1) /6 #Calculate the sum of squares of the first n natural numbers using the formula.\n",
        "\n",
        "n = int(input(\"Enter a positive integer: \"))# Input from the user\n",
        "# Calculate the sum of squares using the formula\n",
        "sum_squares = sum_of_squares(n)\n",
        "print(f\"The sum of the squares of the first {n} natural numbers is: {sum_squares}\")\n"
      ]
    },
    {
      "cell_type": "code",
      "execution_count": null,
      "metadata": {
        "id": "X6eO2TU_hwAj",
        "outputId": "cb376752-a1b4-4dd5-bb99-9e6c17bf5206"
      },
      "outputs": [
        {
          "name": "stdout",
          "output_type": "stream",
          "text": [
            "The sum of the cubes of the first 10 natural numbers is: 3025\n"
          ]
        }
      ],
      "source": [
        "#11.Python Program for cube sum of first n natural numbers\n",
        "def sum_of_cubes(n):\n",
        "    #Calculate the sum of cubes of the first n natural numbers using the formula.\n",
        "    sum_n = n * (n + 1) // 2\n",
        "    return sum_n * sum_n\n",
        "# Input from the user\n",
        "n = int(input(\"Enter a positive integer: \"))\n",
        "# Calculate the sum of cubes using the formula\n",
        "sum_cubes = sum_of_cubes(n)\n",
        "print(f\"The sum of the cubes of the first {n} natural numbers is: {sum_cubes}\")\n"
      ]
    },
    {
      "cell_type": "code",
      "execution_count": null,
      "metadata": {
        "id": "89ZsA-zhhwAj"
      },
      "outputs": [],
      "source": []
    }
  ],
  "metadata": {
    "colab": {
      "provenance": []
    },
    "kernelspec": {
      "display_name": "Python 3",
      "name": "python3"
    },
    "language_info": {
      "codemirror_mode": {
        "name": "ipython",
        "version": 3
      },
      "file_extension": ".py",
      "mimetype": "text/x-python",
      "name": "python",
      "nbconvert_exporter": "python",
      "pygments_lexer": "ipython3",
      "version": "3.12.4"
    }
  },
  "nbformat": 4,
  "nbformat_minor": 0
}