{
  "nbformat": 4,
  "nbformat_minor": 0,
  "metadata": {
    "colab": {
      "provenance": []
    },
    "kernelspec": {
      "name": "python3",
      "display_name": "Python 3"
    },
    "language_info": {
      "name": "python"
    }
  },
  "cells": [
    {
      "source": [
        "#Create Class\n",
        "class MyClass:\n",
        "    x = 8 # Indent this line to make it part of the class\n",
        "    print(\"Hello Unmesha\",x)"
      ],
      "cell_type": "code",
      "metadata": {
        "colab": {
          "base_uri": "https://localhost:8080/"
        },
        "id": "CqAuQ7fS4-5C",
        "outputId": "e34faeee-3b6e-44ca-c369-ecd3806e213b"
      },
      "execution_count": 1,
      "outputs": [
        {
          "output_type": "stream",
          "name": "stdout",
          "text": [
            "Hello Unmesha 8\n"
          ]
        }
      ]
    },
    {
      "cell_type": "code",
      "source": [
        "#create object, Create an object named p1, and print the value of x:\n",
        "p1 = MyClass()\n",
        "print(p1.x)"
      ],
      "metadata": {
        "colab": {
          "base_uri": "https://localhost:8080/"
        },
        "id": "XHE8LUNS5AoU",
        "outputId": "88fb65a8-dbf7-4212-ce0f-cc915c06b242"
      },
      "execution_count": 2,
      "outputs": [
        {
          "output_type": "stream",
          "name": "stdout",
          "text": [
            "8\n"
          ]
        }
      ]
    },
    {
      "cell_type": "code",
      "source": [
        "y=MyClass()\n",
        "print(y.x)\n",
        "print(type(y))"
      ],
      "metadata": {
        "colab": {
          "base_uri": "https://localhost:8080/"
        },
        "id": "WDx9DacQ5JNl",
        "outputId": "d6be0228-d4c8-4dfd-d3f6-2ff8616c3e25"
      },
      "execution_count": 3,
      "outputs": [
        {
          "output_type": "stream",
          "name": "stdout",
          "text": [
            "8\n",
            "<class '__main__.MyClass'>\n"
          ]
        }
      ]
    },
    {
      "source": [
        "class Students:\n",
        "    print(\"Hello Unmesha\")  # Indent this line to be part of the class\n",
        "z = Students()\n",
        "print(type(z))"
      ],
      "cell_type": "code",
      "metadata": {
        "colab": {
          "base_uri": "https://localhost:8080/"
        },
        "id": "vrGimtHn5f2r",
        "outputId": "583c8fd6-be31-4fbe-90ab-3b9d7d827143"
      },
      "execution_count": 4,
      "outputs": [
        {
          "output_type": "stream",
          "name": "stdout",
          "text": [
            "Hello Unmesha\n",
            "<class '__main__.Students'>\n"
          ]
        }
      ]
    },
    {
      "source": [
        "class Student:\n",
        "    def func(): # Indent this line to be part of the class\n",
        "        print(\"Hello, My Name is Unmesha\")\n",
        "\n",
        "Student.func()"
      ],
      "cell_type": "code",
      "metadata": {
        "colab": {
          "base_uri": "https://localhost:8080/"
        },
        "id": "-dQZwmVr5urc",
        "outputId": "ba86c41d-ca0b-437c-ddb3-d67ade36c0e1"
      },
      "execution_count": 5,
      "outputs": [
        {
          "output_type": "stream",
          "name": "stdout",
          "text": [
            "Hello, My Name is Unmesha\n"
          ]
        }
      ]
    },
    {
      "source": [
        "class Student:\n",
        "    year = 2001  # Indent this line to be part of the class definition\n",
        "\n",
        "    def func(self):\n",
        "        print(\"Hello, My Birth year is\", self.year)\n",
        "\n",
        "x = Student()\n",
        "x.func()"
      ],
      "cell_type": "code",
      "metadata": {
        "colab": {
          "base_uri": "https://localhost:8080/"
        },
        "id": "8WiNO7-V57AK",
        "outputId": "c60cf229-e698-489c-a8e4-4e5569547e19"
      },
      "execution_count": 6,
      "outputs": [
        {
          "output_type": "stream",
          "name": "stdout",
          "text": [
            "Hello, My Birth year is 2001\n"
          ]
        }
      ]
    },
    {
      "source": [
        "class Person:\n",
        "    def __init__(self, name, age):\n",
        "        self.name = name\n",
        "        self.age = age\n",
        "\n",
        "    def myfunc(self):\n",
        "        print(\"Hello my name is \" + self.name)\n",
        "\n",
        "p1 = Person(\"Unmesha\", 22)\n",
        "p1.myfunc() # Call the function using the correct name"
      ],
      "cell_type": "code",
      "metadata": {
        "colab": {
          "base_uri": "https://localhost:8080/"
        },
        "id": "lxS8SCCn6w3l",
        "outputId": "29e8fbb6-734b-4ebc-e5e0-982c75605d94"
      },
      "execution_count": 7,
      "outputs": [
        {
          "output_type": "stream",
          "name": "stdout",
          "text": [
            "Hello my name is Unmesha\n"
          ]
        }
      ]
    },
    {
      "source": [
        "class Student:\n",
        "    def __init__(self,name):\n",
        "        self.name = name\n",
        "Unmesha = Student(name='Unmesha Here!')\n",
        "best = Student(name=\"I am the best\")\n",
        "print(Unmesha.name)\n",
        "print(best.name)"
      ],
      "cell_type": "code",
      "metadata": {
        "colab": {
          "base_uri": "https://localhost:8080/"
        },
        "id": "KWiBqT1Z8plH",
        "outputId": "10b60ee8-039f-43ad-bd6a-b0bb27883cb3"
      },
      "execution_count": 9,
      "outputs": [
        {
          "output_type": "stream",
          "name": "stdout",
          "text": [
            "Unmesha Here!\n",
            "I am the best\n"
          ]
        }
      ]
    },
    {
      "source": [
        "class Person:\n",
        "    def __init__(self, name, age):\n",
        "\n",
        "        self.name = name\n",
        "        self.age = age\n",
        "p1 = Person(\"Unmesha\", 22)\n",
        "print(p1.name)\n",
        "print(p1.age)"
      ],
      "cell_type": "code",
      "metadata": {
        "colab": {
          "base_uri": "https://localhost:8080/"
        },
        "id": "Qv5Y0oWI88EO",
        "outputId": "96b7a53c-4dff-4cb0-f5f8-dfb894683c2d"
      },
      "execution_count": 10,
      "outputs": [
        {
          "output_type": "stream",
          "name": "stdout",
          "text": [
            "Unmesha\n",
            "22\n"
          ]
        }
      ]
    },
    {
      "source": [
        "class Student:\n",
        "    Total = 100 # Class variable\n",
        "    def __init__(self, marks):\n",
        "        self.marks = marks # Corrected the assignment\n",
        "        print(\"Initialized...\")\n",
        "    def findLoss(self):\n",
        "        return self.Total - self.marks # Corrected the expression\n",
        "    def findPercentage(self):\n",
        "        return (self.marks / self.Total) * 100 # Corrected the expression\n",
        "a = Student(marks=70)\n",
        "print(\"Total Marks:\", a.Total)\n",
        "print('Lost Marks:', a.findLoss()) # Corrected the typo in the string\n",
        "print('Percentage is:', a.findPercentage()) # Added missing closing parenthesis"
      ],
      "cell_type": "code",
      "metadata": {
        "colab": {
          "base_uri": "https://localhost:8080/"
        },
        "id": "BVC2OMx89mCv",
        "outputId": "9d6dabe3-5c11-4898-80f3-2e1d24ca478f"
      },
      "execution_count": null,
      "outputs": [
        {
          "output_type": "stream",
          "name": "stdout",
          "text": [
            "Initialized...\n",
            "Total Marks: 100\n",
            "Lost Marks: 30\n",
            "Percentage is: 70.0\n"
          ]
        }
      ]
    },
    {
      "source": [
        "class Student:\n",
        "    Total = 100 # Class variable\n",
        "    def __init__(self, name, marks,gender):\n",
        "        self.name=name\n",
        "        self.marks=marks\n",
        "        self.gender=gender\n",
        "        print(\"Initialized...\")\n",
        "    def __len__(self):\n",
        "        return self.marks\n",
        "    def __str__(self):\n",
        "        return \"Name: %s | Marks: %s | Gender: %s\" %(self.name,self.marks,self.gender) # fix typo self.g -> self.gender\n",
        "    def __del__(self):\n",
        "        print(\"Student Database is Deleted\")\n",
        "a = Student('Unmesha', 80, 'female')\n",
        "print(a)\n",
        "print('Marks: ',len(a))\n",
        "del a"
      ],
      "cell_type": "code",
      "metadata": {
        "colab": {
          "base_uri": "https://localhost:8080/"
        },
        "id": "rxsxVgSCAQOQ",
        "outputId": "353e8c24-ee06-4763-fbb3-ef5ff358df71"
      },
      "execution_count": 11,
      "outputs": [
        {
          "output_type": "stream",
          "name": "stdout",
          "text": [
            "Initialized...\n",
            "Name: Unmesha | Marks: 80 | Gender: female\n",
            "Marks:  80\n",
            "Student Database is Deleted\n"
          ]
        }
      ]
    },
    {
      "source": [
        "student = {\n",
        "    \"Name\": \"Unmesha\",\n",
        "    \"Marks\": 380,\n",
        "    \"Gender\": \"female\"\n",
        "}\n",
        "\n",
        "del student\n",
        "\n",
        "print(\"Student Database is Deleted\")\n",
        "class Student:\n",
        "    Total = 500 # Class variable\n",
        "    def __init__(self, name, marks,gender):\n",
        "        self.name=name\n",
        "        self.marks=marks\n",
        "        self.gender=gender\n",
        "        print(\"Initialized...\")\n",
        "    def __len__(self):\n",
        "        return self.marks\n",
        "    def __str__(self):\n",
        "        return \"Name: %s | Marks: %s | Gender: %s\" %(self.name,self.marks,self.gender) # fix typo self.g -> self.gender\n",
        "\n",
        "    def __del__(self):\n",
        "        print('Student Database is Deleted') # Indent this line to be part of the class"
      ],
      "cell_type": "code",
      "metadata": {
        "colab": {
          "base_uri": "https://localhost:8080/"
        },
        "id": "U2zrVTliAjtX",
        "outputId": "a5c9dfc4-bff5-42e8-a024-4da7b10c9d1f"
      },
      "execution_count": 12,
      "outputs": [
        {
          "output_type": "stream",
          "name": "stdout",
          "text": [
            "Student Database is Deleted\n"
          ]
        }
      ]
    },
    {
      "source": [
        "class Student:\n",
        "    Total = 500 # Class variable\n",
        "    def __init__(self, marks): # Fix indentation\n",
        "        self.marks = marks\n",
        "        print(\"Initialized...\")\n",
        "    def mul(self): # Fix indentation\n",
        "        return self.marks * self.Total\n",
        "p1 = Student(490)\n",
        "p1.mul()"
      ],
      "cell_type": "code",
      "metadata": {
        "colab": {
          "base_uri": "https://localhost:8080/"
        },
        "id": "vC1EXmYsA0u4",
        "outputId": "909d77e5-71b8-48b7-fcb6-80c98eb6e8f5"
      },
      "execution_count": 13,
      "outputs": [
        {
          "output_type": "stream",
          "name": "stdout",
          "text": [
            "Initialized...\n"
          ]
        },
        {
          "output_type": "execute_result",
          "data": {
            "text/plain": [
              "245000"
            ]
          },
          "metadata": {},
          "execution_count": 13
        }
      ]
    },
    {
      "source": [
        "class Student:\n",
        "    Total = 500 # Class variable\n",
        "    def __init__(self, name, marks,gender):\n",
        "        self.name=name\n",
        "        self.marks=marks\n",
        "        self.gender=gender\n",
        "        print(\"Initialized...\")\n",
        "    def __len__(b):\n",
        "        return b.marks\n",
        "a = Student('Unmesha', 400, 'female')\n",
        "print(a)\n",
        "print('Marks: ',len(a))"
      ],
      "cell_type": "code",
      "metadata": {
        "colab": {
          "base_uri": "https://localhost:8080/"
        },
        "id": "Z5npYF8oBFNk",
        "outputId": "f9591143-2657-4981-9ea0-e0c6fb276fe0"
      },
      "execution_count": 15,
      "outputs": [
        {
          "output_type": "stream",
          "name": "stdout",
          "text": [
            "Initialized...\n",
            "<__main__.Student object at 0x7ebe33d93610>\n",
            "Marks:  400\n"
          ]
        }
      ]
    },
    {
      "source": [
        "class Person:\n",
        "    def __init__(mysillyobject, name, age):\n",
        "        mysillyobject.name = name\n",
        "        mysillyobject.age = age\n",
        "    def myfunc(abc):\n",
        "        print(\"Hello my name is \" + abc.name + \" \" + str(abc.age)) # Fix concatenation and convert age to string\n",
        "\n",
        "p1 = Person(\"Unmesha\", 22)\n",
        "p1.myfunc() # Call the method on the object"
      ],
      "cell_type": "code",
      "metadata": {
        "colab": {
          "base_uri": "https://localhost:8080/"
        },
        "id": "zBfsqNiuB4MS",
        "outputId": "5aed93d2-1599-405c-88f6-54a8c56f7aa8"
      },
      "execution_count": 16,
      "outputs": [
        {
          "output_type": "stream",
          "name": "stdout",
          "text": [
            "Hello my name is Unmesha 22\n"
          ]
        }
      ]
    },
    {
      "cell_type": "code",
      "source": [
        "#Modify Object Properties\n",
        "#Set the age of p1 to 22\n",
        "\n",
        "p1.age = 22\n",
        "p1.myfunc()"
      ],
      "metadata": {
        "colab": {
          "base_uri": "https://localhost:8080/"
        },
        "id": "CcoUf08DB7I2",
        "outputId": "a5cc09c6-483d-4ed3-b09c-2703459d0612"
      },
      "execution_count": 17,
      "outputs": [
        {
          "output_type": "stream",
          "name": "stdout",
          "text": [
            "Hello my name is Unmesha 22\n"
          ]
        }
      ]
    },
    {
      "source": [
        "class Person:\n",
        "    def __init__(self, fname, lname):\n",
        "        self.firstname = fname  # Initialize firstname attribute in Person class\n",
        "        self.lastname = lname\n",
        "\n",
        "class Student(Person):\n",
        "    def __init__(self, fname, lname, major):\n",
        "        Person.__init__(self, fname, lname)  # Properly call Person's constructor\n",
        "        self.major = major\n",
        "\n",
        "    def print_info(self):\n",
        "        print(self.firstname, self.lastname, \"-\", self.major)  # Now you can access self.firstname\n",
        "\n",
        "x = Student(\"Partha\", \"Unmesha\", \"Forever\")\n",
        "x.print_info()"
      ],
      "cell_type": "code",
      "metadata": {
        "colab": {
          "base_uri": "https://localhost:8080/"
        },
        "id": "BBO5Jye1E2g0",
        "outputId": "503b11bf-119b-45e1-fd5a-8faf189221f8"
      },
      "execution_count": 18,
      "outputs": [
        {
          "output_type": "stream",
          "name": "stdout",
          "text": [
            "Partha Unmesha - Forever\n"
          ]
        }
      ]
    },
    {
      "source": [
        "class Person:\n",
        "    def __init__(self, fname, lname): # Indent the __init__ method\n",
        "        self.firstname = fname\n",
        "        self.lastname = lname\n",
        "    def printname(self): # Indent the printname method\n",
        "        print(self.firstname, self.lastname)\n",
        "\n",
        "class Student(Person):\n",
        "    def __init__(self, fname, lname):\n",
        "        super().__init__(fname, lname)\n",
        "        self.graduationyear = 2018\n",
        "\n",
        "x = Student(\"Partha\", \"Unmesha\")\n",
        "print(x.graduationyear)\n",
        "x.printname()"
      ],
      "cell_type": "code",
      "metadata": {
        "colab": {
          "base_uri": "https://localhost:8080/"
        },
        "id": "oM83NFPdFik-",
        "outputId": "670954ff-6347-4bb6-e79a-f66958fda4bb"
      },
      "execution_count": 19,
      "outputs": [
        {
          "output_type": "stream",
          "name": "stdout",
          "text": [
            "2018\n",
            "Partha Unmesha\n"
          ]
        }
      ]
    },
    {
      "source": [
        "class Person:\n",
        "    def __init__(self, fname, lname):\n",
        "        self.firstname = fname\n",
        "        self.lastname = lname\n",
        "\n",
        "    def printname(self):\n",
        "        print(self.firstname, self.lastname)\n",
        "\n",
        "class Student(Person):\n",
        "    def __init__(self, fname, lname, year):\n",
        "        super().__init__(fname, lname)\n",
        "        self.graduationyear = year\n",
        "\n",
        "x = Student(\"Partha\", \"Unmesha\", 2018)\n",
        "print(x.graduationyear)"
      ],
      "cell_type": "code",
      "metadata": {
        "colab": {
          "base_uri": "https://localhost:8080/"
        },
        "id": "sM6M0HKqGXim",
        "outputId": "1c59404b-fd7c-495e-f180-ef2b054962c0"
      },
      "execution_count": 20,
      "outputs": [
        {
          "output_type": "stream",
          "name": "stdout",
          "text": [
            "2018\n"
          ]
        }
      ]
    },
    {
      "source": [
        "class Person:\n",
        "    def __init__(self, fname, lname):\n",
        "        self.firstname = fname\n",
        "        self.lastname = lname\n",
        "\n",
        "    def printname(self):\n",
        "        print(self.firstname, self.lastname) # Indent this line\n",
        "\n",
        "class Student(Person):\n",
        "    def __init__(self, fname, lname, year):\n",
        "        super().__init__(fname, lname)\n",
        "        self.graduationyear = year\n",
        "\n",
        "    def welcome(self):\n",
        "        print(\"Our\", self.firstname, self.lastname, \"in the year of\", self.graduationyear) # Fix typo here\n",
        "\n",
        "x = Student(\"Relationship\", \"started\", 2018)\n",
        "x.welcome()"
      ],
      "cell_type": "code",
      "metadata": {
        "colab": {
          "base_uri": "https://localhost:8080/"
        },
        "id": "fULTnA6JG-49",
        "outputId": "d7cbb1ba-e463-49e2-dfd9-d62e50392efd"
      },
      "execution_count": 21,
      "outputs": [
        {
          "output_type": "stream",
          "name": "stdout",
          "text": [
            "Our Relationship started in the year of 2018\n"
          ]
        }
      ]
    },
    {
      "source": [
        "class Unmesha:\n",
        "    def __init__(self): # Indent all methods within the class\n",
        "        print(\"Profile created\")\n",
        "    def name(self):\n",
        "        print(\"Unmesha\")\n",
        "    def age(self):\n",
        "        print(\"22\")"
      ],
      "cell_type": "code",
      "metadata": {
        "id": "6vZmowklHuvJ"
      },
      "execution_count": 25,
      "outputs": []
    },
    {
      "source": [
        "class Biotechnology(Unmesha):\n",
        "    def __init__(self):  # Indent this line\n",
        "        super().__init__() # Correctly call the parent class's initializer\n",
        "        print(\"Graduation\")\n",
        "    def name(self):  # Indent this line\n",
        "        print(\"Biotechnology\")\n",
        "    def type(self):  # Indent this line\n",
        "        print(\"KIIT\")"
      ],
      "cell_type": "code",
      "metadata": {
        "id": "HywsW-C-H-XY"
      },
      "execution_count": 26,
      "outputs": []
    },
    {
      "cell_type": "code",
      "source": [
        "# Creating an instance of the IPS class\n",
        "Biotechnology_profile = Biotechnology()\n",
        "# Calling methods on the instance\n",
        "Biotechnology_profile.name()\n",
        "Biotechnology_profile.age()\n",
        "Biotechnology_profile.type()"
      ],
      "metadata": {
        "colab": {
          "base_uri": "https://localhost:8080/"
        },
        "id": "AAuoTUqtIAeY",
        "outputId": "0deb7d11-f6e3-4f69-96f9-6b39c9381c4a"
      },
      "execution_count": 27,
      "outputs": [
        {
          "output_type": "stream",
          "name": "stdout",
          "text": [
            "Profile created\n",
            "Graduation\n",
            "Biotechnology\n",
            "22\n",
            "KIIT\n"
          ]
        }
      ]
    },
    {
      "cell_type": "code",
      "source": [
        "a = Biotechnology()"
      ],
      "metadata": {
        "colab": {
          "base_uri": "https://localhost:8080/"
        },
        "id": "erwYRCahIIAk",
        "outputId": "129f609b-3304-449f-ce49-abbe972bb5a8"
      },
      "execution_count": 28,
      "outputs": [
        {
          "output_type": "stream",
          "name": "stdout",
          "text": [
            "Profile created\n",
            "Graduation\n"
          ]
        }
      ]
    },
    {
      "source": [
        "class MyClass:\n",
        "    @staticmethod\n",
        "    def my_function(arg1, arg2):\n",
        "        return arg1 + arg2\n",
        "\n",
        "# You can call it directly using the class name\n",
        "result = MyClass.my_function(1, 4)\n",
        "print(result) # Output: 5"
      ],
      "cell_type": "code",
      "metadata": {
        "colab": {
          "base_uri": "https://localhost:8080/"
        },
        "id": "fwHkOnwWJo8t",
        "outputId": "65bd0102-9add-4b62-e96d-49b9c7d844f2"
      },
      "execution_count": 29,
      "outputs": [
        {
          "output_type": "stream",
          "name": "stdout",
          "text": [
            "5\n"
          ]
        }
      ]
    },
    {
      "source": [
        "class MyClass:\n",
        "    def my_function(arg1, arg2): # Indent this line\n",
        "        return arg1 + arg2 # Indent this line as well\n",
        "\n",
        "# You can call it directly using the class name\n",
        "result = MyClass.my_function(8, 8)\n",
        "print(result) # Output: 16"
      ],
      "cell_type": "code",
      "metadata": {
        "colab": {
          "base_uri": "https://localhost:8080/"
        },
        "id": "BVJ1VWdSJ4lp",
        "outputId": "ff28eb1a-f5a2-4a58-ea85-a204e43566b0"
      },
      "execution_count": 30,
      "outputs": [
        {
          "output_type": "stream",
          "name": "stdout",
          "text": [
            "16\n"
          ]
        }
      ]
    },
    {
      "source": [
        "class MyClass:\n",
        "    class_variable = 18  # Indent this line\n",
        "\n",
        "    @classmethod\n",
        "    def my_function(cls, arg1):\n",
        "        return cls.class_variable + arg1  # Indent this line as well\n",
        "\n",
        "# You can call it directly using the class name\n",
        "result = MyClass.my_function(8)\n",
        "print(result) # Output: 21"
      ],
      "cell_type": "code",
      "metadata": {
        "colab": {
          "base_uri": "https://localhost:8080/"
        },
        "id": "EoKTwfk3Oh_m",
        "outputId": "42976a43-1b50-4fdc-8da4-c2a1720fcfc1"
      },
      "execution_count": 31,
      "outputs": [
        {
          "output_type": "stream",
          "name": "stdout",
          "text": [
            "26\n"
          ]
        }
      ]
    },
    {
      "source": [
        "class MyClass:\n",
        "    def my_function(arg1, arg2): # Indent this line\n",
        "        return arg1 + arg2 # Indent this line as well\n",
        "\n",
        "# You can call it directly using the class name\n",
        "result = MyClass.my_function(1, 8)\n",
        "print(result) # Output: 9"
      ],
      "cell_type": "code",
      "metadata": {
        "id": "4SZ8k9tJMLho",
        "colab": {
          "base_uri": "https://localhost:8080/"
        },
        "outputId": "b134ed83-bf80-43d9-f473-742e8d395d18"
      },
      "execution_count": 32,
      "outputs": [
        {
          "output_type": "stream",
          "name": "stdout",
          "text": [
            "9\n"
          ]
        }
      ]
    }
  ]
}