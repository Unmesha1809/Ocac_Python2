{
 "cells": [
  {
   "cell_type": "code",
   "execution_count": 1,
   "id": "5a8aef77-5590-4799-92fe-485bea60cbf4",
   "metadata": {},
   "outputs": [
    {
     "data": {
      "text/plain": [
       "' UNMESHA'"
      ]
     },
     "execution_count": 1,
     "metadata": {},
     "output_type": "execute_result"
    }
   ],
   "source": [
    "c =' UNMESHA'\n",
    "c"
   ]
  },
  {
   "cell_type": "code",
   "execution_count": 3,
   "id": "cf00e594-bf59-4a68-b383-542b3398384b",
   "metadata": {},
   "outputs": [
    {
     "ename": "NameError",
     "evalue": "name 'b' is not defined",
     "output_type": "error",
     "traceback": [
      "\u001b[1;31m---------------------------------------------------------------------------\u001b[0m",
      "\u001b[1;31mNameError\u001b[0m                                 Traceback (most recent call last)",
      "Cell \u001b[1;32mIn[3], line 1\u001b[0m\n\u001b[1;32m----> 1\u001b[0m \u001b[38;5;28mprint\u001b[39m(b)\n",
      "\u001b[1;31mNameError\u001b[0m: name 'b' is not defined"
     ]
    }
   ],
   "source": [
    "print(b)"
   ]
  },
  {
   "cell_type": "code",
   "execution_count": 5,
   "id": "7d4116eb-ce54-4350-8465-8fef4b78f12f",
   "metadata": {},
   "outputs": [
    {
     "data": {
      "text/plain": [
       "80"
      ]
     },
     "execution_count": 5,
     "metadata": {},
     "output_type": "execute_result"
    }
   ],
   "source": [
    "a = 80\n",
    "a"
   ]
  },
  {
   "cell_type": "code",
   "execution_count": 7,
   "id": "ad075e58-b993-4d30-846a-fa2454901cd4",
   "metadata": {},
   "outputs": [
    {
     "data": {
      "text/plain": [
       "int"
      ]
     },
     "execution_count": 7,
     "metadata": {},
     "output_type": "execute_result"
    }
   ],
   "source": [
    "type(a)"
   ]
  },
  {
   "cell_type": "code",
   "execution_count": 9,
   "id": "be59ac80-1ea8-47bf-a01e-66a4e9d0d5a9",
   "metadata": {},
   "outputs": [
    {
     "ename": "NameError",
     "evalue": "name 'b' is not defined",
     "output_type": "error",
     "traceback": [
      "\u001b[1;31m---------------------------------------------------------------------------\u001b[0m",
      "\u001b[1;31mNameError\u001b[0m                                 Traceback (most recent call last)",
      "Cell \u001b[1;32mIn[9], line 1\u001b[0m\n\u001b[1;32m----> 1\u001b[0m \u001b[38;5;28mtype\u001b[39m(b)\n",
      "\u001b[1;31mNameError\u001b[0m: name 'b' is not defined"
     ]
    }
   ],
   "source": [
    "type(b)"
   ]
  },
  {
   "cell_type": "code",
   "execution_count": 13,
   "id": "f9770f84-a6b8-4ed0-a4d4-fcf917cac656",
   "metadata": {},
   "outputs": [
    {
     "data": {
      "text/plain": [
       "' UNMESHA'"
      ]
     },
     "execution_count": 13,
     "metadata": {},
     "output_type": "execute_result"
    }
   ],
   "source": [
    "b =' UNMESHA'\n",
    "b"
   ]
  },
  {
   "cell_type": "code",
   "execution_count": 15,
   "id": "dd10733b-0afb-4efc-bbb0-80df10cd1f86",
   "metadata": {},
   "outputs": [
    {
     "data": {
      "text/plain": [
       "30"
      ]
     },
     "execution_count": 15,
     "metadata": {},
     "output_type": "execute_result"
    }
   ],
   "source": [
    "ib = 30\n",
    "ib"
   ]
  },
  {
   "cell_type": "code",
   "execution_count": 17,
   "id": "b373bd33-25db-4050-996f-6ff54a7c633a",
   "metadata": {},
   "outputs": [
    {
     "data": {
      "text/plain": [
       "'30'"
      ]
     },
     "execution_count": 17,
     "metadata": {},
     "output_type": "execute_result"
    }
   ],
   "source": [
    "c = \"30\"\n",
    "c"
   ]
  },
  {
   "cell_type": "code",
   "execution_count": 19,
   "id": "3e7768d6-375a-477f-b442-97555ed38ea7",
   "metadata": {},
   "outputs": [
    {
     "data": {
      "text/plain": [
       "str"
      ]
     },
     "execution_count": 19,
     "metadata": {},
     "output_type": "execute_result"
    }
   ],
   "source": [
    "type(c)"
   ]
  },
  {
   "cell_type": "code",
   "execution_count": 21,
   "id": "f403b22a-5ad6-49a1-a386-7dd397fb707a",
   "metadata": {},
   "outputs": [
    {
     "data": {
      "text/plain": [
       "'90a'"
      ]
     },
     "execution_count": 21,
     "metadata": {},
     "output_type": "execute_result"
    }
   ],
   "source": [
    "cd = \"90a\"\n",
    "cd"
   ]
  },
  {
   "cell_type": "code",
   "execution_count": 27,
   "id": "23580d85-0e64-418f-853f-e5ca75f3400b",
   "metadata": {},
   "outputs": [
    {
     "data": {
      "text/plain": [
       "str"
      ]
     },
     "execution_count": 27,
     "metadata": {},
     "output_type": "execute_result"
    }
   ],
   "source": [
    "type(cd)"
   ]
  },
  {
   "cell_type": "code",
   "execution_count": 29,
   "id": "3f49cd86-b86b-418c-bb72-3844fa6a024a",
   "metadata": {},
   "outputs": [
    {
     "name": "stdout",
     "output_type": "stream",
     "text": [
      "['False', 'None', 'True', 'and', 'as', 'assert', 'async', 'await', 'break', 'class', 'continue', 'def', 'del', 'elif', 'else', 'except', 'finally', 'for', 'from', 'global', 'if', 'import', 'in', 'is', 'lambda', 'nonlocal', 'not', 'or', 'pass', 'raise', 'return', 'try', 'while', 'with', 'yield']\n"
     ]
    }
   ],
   "source": [
    "import keyword\n",
    "print(keyword.kwlist)"
   ]
  },
  {
   "cell_type": "code",
   "execution_count": 31,
   "id": "4639160d-930f-4f06-9dd7-91487c1c28b1",
   "metadata": {},
   "outputs": [
    {
     "data": {
      "text/plain": [
       "35"
      ]
     },
     "execution_count": 31,
     "metadata": {},
     "output_type": "execute_result"
    }
   ],
   "source": [
    "len(keyword.kwlist)"
   ]
  },
  {
   "cell_type": "code",
   "execution_count": 33,
   "id": "95152495-458c-411c-aad4-386affa36a64",
   "metadata": {},
   "outputs": [
    {
     "ename": "SyntaxError",
     "evalue": "cannot assign to False (2025466614.py, line 1)",
     "output_type": "error",
     "traceback": [
      "\u001b[1;36m  Cell \u001b[1;32mIn[33], line 1\u001b[1;36m\u001b[0m\n\u001b[1;33m    False = \"1809\"\u001b[0m\n\u001b[1;37m    ^\u001b[0m\n\u001b[1;31mSyntaxError\u001b[0m\u001b[1;31m:\u001b[0m cannot assign to False\n"
     ]
    }
   ],
   "source": [
    "False = \"1809\"\n",
    "False"
   ]
  },
  {
   "cell_type": "code",
   "execution_count": 35,
   "id": "a15415ee-2f3f-4331-aff4-169c0e88ceb0",
   "metadata": {},
   "outputs": [
    {
     "data": {
      "text/plain": [
       "70"
      ]
     },
     "execution_count": 35,
     "metadata": {},
     "output_type": "execute_result"
    }
   ],
   "source": [
    "a1 = 70\n",
    "a1"
   ]
  },
  {
   "cell_type": "code",
   "execution_count": 37,
   "id": "e98cf82a-8cd7-483f-b5a1-aa31b861a2f4",
   "metadata": {},
   "outputs": [
    {
     "ename": "SyntaxError",
     "evalue": "invalid decimal literal (671318866.py, line 1)",
     "output_type": "error",
     "traceback": [
      "\u001b[1;36m  Cell \u001b[1;32mIn[37], line 1\u001b[1;36m\u001b[0m\n\u001b[1;33m    1b = 50\u001b[0m\n\u001b[1;37m    ^\u001b[0m\n\u001b[1;31mSyntaxError\u001b[0m\u001b[1;31m:\u001b[0m invalid decimal literal\n"
     ]
    }
   ],
   "source": [
    "1b = 50\n",
    "1b"
   ]
  },
  {
   "cell_type": "code",
   "execution_count": 39,
   "id": "e2ff8faf-e001-45b9-b963-6053b6f42105",
   "metadata": {},
   "outputs": [
    {
     "ename": "SyntaxError",
     "evalue": "invalid syntax (2183698674.py, line 1)",
     "output_type": "error",
     "traceback": [
      "\u001b[1;36m  Cell \u001b[1;32mIn[39], line 1\u001b[1;36m\u001b[0m\n\u001b[1;33m    b$9 = 18\u001b[0m\n\u001b[1;37m     ^\u001b[0m\n\u001b[1;31mSyntaxError\u001b[0m\u001b[1;31m:\u001b[0m invalid syntax\n"
     ]
    }
   ],
   "source": [
    "b$9 = 18\n",
    "b$9"
   ]
  },
  {
   "cell_type": "code",
   "execution_count": 41,
   "id": "6dd607cd-f70e-4b43-802a-c4cde46b8aa3",
   "metadata": {},
   "outputs": [
    {
     "data": {
      "text/plain": [
       "166"
      ]
     },
     "execution_count": 41,
     "metadata": {},
     "output_type": "execute_result"
    }
   ],
   "source": [
    "b_8 = 166\n",
    "b_8"
   ]
  },
  {
   "cell_type": "code",
   "execution_count": 43,
   "id": "f9abc6ee-1d03-49d8-8b35-3a12323c84d7",
   "metadata": {},
   "outputs": [
    {
     "data": {
      "text/plain": [
       "140708416116680"
      ]
     },
     "execution_count": 43,
     "metadata": {},
     "output_type": "execute_result"
    }
   ],
   "source": [
    "#StorageLocation\n",
    "id(b_8)"
   ]
  },
  {
   "cell_type": "code",
   "execution_count": 45,
   "id": "3f0d64e9-333c-42d9-8119-8c576c5bba24",
   "metadata": {},
   "outputs": [
    {
     "data": {
      "text/plain": [
       "140708416116680"
      ]
     },
     "execution_count": 45,
     "metadata": {},
     "output_type": "execute_result"
    }
   ],
   "source": [
    "v = 166\n",
    "v\n",
    "id(v)"
   ]
  },
  {
   "cell_type": "code",
   "execution_count": 47,
   "id": "63e4f342-fc19-4d23-b5de-e910b6206dc4",
   "metadata": {},
   "outputs": [
    {
     "data": {
      "text/plain": [
       "140708416116680"
      ]
     },
     "execution_count": 47,
     "metadata": {},
     "output_type": "execute_result"
    }
   ],
   "source": [
    "v = 166\n",
    "id(v)"
   ]
  },
  {
   "cell_type": "code",
   "execution_count": 49,
   "id": "5e6ed696-82c5-46f8-bb2a-8e5496aa2761",
   "metadata": {},
   "outputs": [
    {
     "data": {
      "text/plain": [
       "140708416113672"
      ]
     },
     "execution_count": 49,
     "metadata": {},
     "output_type": "execute_result"
    }
   ],
   "source": [
    "b = 72\n",
    "c = 82\n",
    "id(b)"
   ]
  },
  {
   "cell_type": "code",
   "execution_count": 51,
   "id": "8abfac1f-83d8-45bc-b5b6-94d4d63a12cc",
   "metadata": {},
   "outputs": [
    {
     "data": {
      "text/plain": [
       "140708416113992"
      ]
     },
     "execution_count": 51,
     "metadata": {},
     "output_type": "execute_result"
    }
   ],
   "source": [
    "id(c)"
   ]
  },
  {
   "cell_type": "code",
   "execution_count": 53,
   "id": "768c5e33-f44f-4a14-a503-8309258079fe",
   "metadata": {},
   "outputs": [
    {
     "data": {
      "text/plain": [
       "140708416113672"
      ]
     },
     "execution_count": 53,
     "metadata": {},
     "output_type": "execute_result"
    }
   ],
   "source": [
    "d = 72\n",
    "id(d)"
   ]
  },
  {
   "cell_type": "code",
   "execution_count": 55,
   "id": "b9275353-bd60-45ca-b696-d21f6bbc536d",
   "metadata": {},
   "outputs": [
    {
     "data": {
      "text/plain": [
       "140708416111944"
      ]
     },
     "execution_count": 55,
     "metadata": {},
     "output_type": "execute_result"
    }
   ],
   "source": [
    "d = 18\n",
    "id(d)"
   ]
  },
  {
   "cell_type": "code",
   "execution_count": 57,
   "id": "6125da5d-e07d-4aa4-a130-e4d5be9e3201",
   "metadata": {},
   "outputs": [
    {
     "name": "stdout",
     "output_type": "stream",
     "text": [
      "The summation of two numbers are  120\n"
     ]
    }
   ],
   "source": [
    "a = 40\n",
    "b = 80\n",
    "sum = a+b\n",
    "print(\"The summation of two numbers are \",sum)"
   ]
  },
  {
   "cell_type": "code",
   "execution_count": 59,
   "id": "c72e5c28-0789-43e4-83ae-8900f3f9a8a5",
   "metadata": {},
   "outputs": [
    {
     "name": "stdout",
     "output_type": "stream",
     "text": [
      "The summation of two numbers are sum 120\n"
     ]
    }
   ],
   "source": [
    "a = 40\n",
    "b = 80\n",
    "sum= a+b\n",
    "print(\"The summation of two numbers are sum\", sum)"
   ]
  },
  {
   "cell_type": "code",
   "execution_count": 61,
   "id": "ba46c7eb-cc8c-495b-a705-48829cc2a539",
   "metadata": {},
   "outputs": [
    {
     "data": {
      "text/plain": [
       "120"
      ]
     },
     "execution_count": 61,
     "metadata": {},
     "output_type": "execute_result"
    }
   ],
   "source": [
    "sum"
   ]
  },
  {
   "cell_type": "code",
   "execution_count": 63,
   "id": "2f10f8be-3a63-4225-9246-cd4670d09022",
   "metadata": {},
   "outputs": [],
   "source": [
    "a = b =c = 10"
   ]
  },
  {
   "cell_type": "code",
   "execution_count": 65,
   "id": "362d261e-d974-4ed0-b96a-3ec5e2c92c6f",
   "metadata": {},
   "outputs": [
    {
     "data": {
      "text/plain": [
       "10"
      ]
     },
     "execution_count": 65,
     "metadata": {},
     "output_type": "execute_result"
    }
   ],
   "source": [
    "b"
   ]
  },
  {
   "cell_type": "code",
   "execution_count": 67,
   "id": "d1f4c63e-7898-48dc-9925-2a1e4f12b451",
   "metadata": {},
   "outputs": [
    {
     "data": {
      "text/plain": [
       "10"
      ]
     },
     "execution_count": 67,
     "metadata": {},
     "output_type": "execute_result"
    }
   ],
   "source": [
    "c"
   ]
  },
  {
   "cell_type": "code",
   "execution_count": 71,
   "id": "4c16a84f-4aa7-4021-92b5-4af01092353f",
   "metadata": {},
   "outputs": [
    {
     "name": "stdout",
     "output_type": "stream",
     "text": [
      "18 14 88\n"
     ]
    }
   ],
   "source": [
    "a= 18\n",
    "b = 14\n",
    "c = 88\n",
    "abc = 18\n",
    "print(a,b,c)"
   ]
  },
  {
   "cell_type": "code",
   "execution_count": 73,
   "id": "74d5afa0-1de3-495e-bb51-c1bd1566de77",
   "metadata": {},
   "outputs": [
    {
     "name": "stdout",
     "output_type": "stream",
     "text": [
      "18\n"
     ]
    }
   ],
   "source": [
    "print(abc)"
   ]
  },
  {
   "cell_type": "code",
   "execution_count": 75,
   "id": "33f5ee79-ec0f-4221-9ccb-a37f5b680527",
   "metadata": {},
   "outputs": [
    {
     "name": "stdout",
     "output_type": "stream",
     "text": [
      "24\n"
     ]
    }
   ],
   "source": [
    "a = 24\n",
    "print(a)"
   ]
  },
  {
   "cell_type": "code",
   "execution_count": 77,
   "id": "4e95aaf7-fef9-4d9f-b706-9fbd51b08c5d",
   "metadata": {},
   "outputs": [],
   "source": [
    "#Delete Element\n",
    "del(a)"
   ]
  },
  {
   "cell_type": "code",
   "execution_count": 79,
   "id": "904d151e-a728-43ed-8f2a-24c36ad33080",
   "metadata": {},
   "outputs": [
    {
     "ename": "NameError",
     "evalue": "name 'a' is not defined",
     "output_type": "error",
     "traceback": [
      "\u001b[1;31m---------------------------------------------------------------------------\u001b[0m",
      "\u001b[1;31mNameError\u001b[0m                                 Traceback (most recent call last)",
      "Cell \u001b[1;32mIn[79], line 1\u001b[0m\n\u001b[1;32m----> 1\u001b[0m \u001b[38;5;28mprint\u001b[39m(a)\n",
      "\u001b[1;31mNameError\u001b[0m: name 'a' is not defined"
     ]
    }
   ],
   "source": [
    "print(a)"
   ]
  },
  {
   "cell_type": "code",
   "execution_count": 81,
   "id": "97af0004-25d3-4a86-9a09-ab4e42b7b22e",
   "metadata": {},
   "outputs": [],
   "source": [
    "# to c Lear van ab L e expl orer.\n",
    "a=100\n",
    "b=200\n",
    "c=300\n",
    "del a,b"
   ]
  },
  {
   "cell_type": "code",
   "execution_count": 83,
   "id": "8d366084-6eaa-4a5d-af78-aa5a9d2f0d6e",
   "metadata": {},
   "outputs": [
    {
     "name": "stdout",
     "output_type": "stream",
     "text": [
      "300\n"
     ]
    }
   ],
   "source": [
    "print(c)"
   ]
  },
  {
   "cell_type": "code",
   "execution_count": 85,
   "id": "37466b8d-786d-4dff-a41a-bc311dfa02d1",
   "metadata": {},
   "outputs": [
    {
     "ename": "SyntaxError",
     "evalue": "invalid decimal literal (3522934942.py, line 1)",
     "output_type": "error",
     "traceback": [
      "\u001b[1;36m  Cell \u001b[1;32mIn[85], line 1\u001b[1;36m\u001b[0m\n\u001b[1;33m    1a= 500\u001b[0m\n\u001b[1;37m    ^\u001b[0m\n\u001b[1;31mSyntaxError\u001b[0m\u001b[1;31m:\u001b[0m invalid decimal literal\n"
     ]
    }
   ],
   "source": [
    "1a= 500"
   ]
  },
  {
   "cell_type": "code",
   "execution_count": 87,
   "id": "f47deb65-6874-4c82-9702-ddcfe9892c7c",
   "metadata": {},
   "outputs": [
    {
     "ename": "SyntaxError",
     "evalue": "cannot assign to expression here. Maybe you meant '==' instead of '='? (600694332.py, line 1)",
     "output_type": "error",
     "traceback": [
      "\u001b[1;36m  Cell \u001b[1;32mIn[87], line 1\u001b[1;36m\u001b[0m\n\u001b[1;33m    a@9= 18\u001b[0m\n\u001b[1;37m    ^\u001b[0m\n\u001b[1;31mSyntaxError\u001b[0m\u001b[1;31m:\u001b[0m cannot assign to expression here. Maybe you meant '==' instead of '='?\n"
     ]
    }
   ],
   "source": [
    "a@9= 18"
   ]
  },
  {
   "cell_type": "code",
   "execution_count": 89,
   "id": "7df2c878-7251-423d-8473-b92a337f4822",
   "metadata": {},
   "outputs": [
    {
     "name": "stdout",
     "output_type": "stream",
     "text": [
      "30 60 90\n"
     ]
    }
   ],
   "source": [
    "a=30\n",
    "b=60\n",
    "c=90\n",
    "print(a,b,c)"
   ]
  },
  {
   "cell_type": "code",
   "execution_count": null,
   "id": "ad76a39b-5571-4ec7-a15e-d824391d50d9",
   "metadata": {},
   "outputs": [],
   "source": [
    "# we can as ss ign /r u L tiple van ab Les  in  a s i ngL e L One\n",
    "a,b,c = 30,60,90\n",
    "print(a,b,c"
   ]
  }
 ],
 "metadata": {
  "kernelspec": {
   "display_name": "Python 3 (ipykernel)",
   "language": "python",
   "name": "python3"
  },
  "language_info": {
   "codemirror_mode": {
    "name": "ipython",
    "version": 3
   },
   "file_extension": ".py",
   "mimetype": "text/x-python",
   "name": "python",
   "nbconvert_exporter": "python",
   "pygments_lexer": "ipython3",
   "version": "3.11.7"
  }
 },
 "nbformat": 4,
 "nbformat_minor": 5
}
