{
 "cells": [
  {
   "cell_type": "code",
   "execution_count": 1,
   "id": "4ac189b8-17ae-43c0-99aa-959f0e730d4d",
   "metadata": {},
   "outputs": [
    {
     "name": "stdout",
     "output_type": "stream",
     "text": [
      "2\n"
     ]
    }
   ],
   "source": [
    "print(2)"
   ]
  },
  {
   "cell_type": "code",
   "execution_count": 3,
   "id": "06819a64-5764-4e0d-8e7a-a4e694ad2fbd",
   "metadata": {},
   "outputs": [
    {
     "name": "stdout",
     "output_type": "stream",
     "text": [
      "Unmesha\n"
     ]
    }
   ],
   "source": [
    "print(\"Unmesha\")"
   ]
  },
  {
   "cell_type": "code",
   "execution_count": 5,
   "id": "69925bdb-0a78-435f-ab4a-c813d2eedf5c",
   "metadata": {},
   "outputs": [
    {
     "name": "stdout",
     "output_type": "stream",
     "text": [
      "efctssfu  46#&$\n"
     ]
    }
   ],
   "source": [
    "print(\"efctssfu  46#&$\")"
   ]
  },
  {
   "cell_type": "code",
   "execution_count": 7,
   "id": "267bd5d4-2ba3-4247-8459-2718cf6966bc",
   "metadata": {},
   "outputs": [
    {
     "name": "stdout",
     "output_type": "stream",
     "text": [
      "20\n"
     ]
    }
   ],
   "source": [
    "b=20\n",
    "print(b)"
   ]
  },
  {
   "cell_type": "code",
   "execution_count": 11,
   "id": "07b9ef12-9580-421f-b307-03f2bf73e3db",
   "metadata": {},
   "outputs": [
    {
     "name": "stdout",
     "output_type": "stream",
     "text": [
      "88\n"
     ]
    }
   ],
   "source": [
    "ANKUR=88\n",
    "print(ANKUR)"
   ]
  },
  {
   "cell_type": "code",
   "execution_count": 13,
   "id": "befa021c-836a-44c7-ab6c-52340cb64ee3",
   "metadata": {},
   "outputs": [
    {
     "name": "stdout",
     "output_type": "stream",
     "text": [
      "ankur\n"
     ]
    }
   ],
   "source": [
    "print(\"ankur\")"
   ]
  },
  {
   "cell_type": "code",
   "execution_count": 15,
   "id": "3cb86055-601e-41f6-b4eb-648389976164",
   "metadata": {},
   "outputs": [
    {
     "name": "stdout",
     "output_type": "stream",
     "text": [
      "10 15 20 25\n"
     ]
    }
   ],
   "source": [
    "a=10\n",
    "b=15\n",
    "c=20\n",
    "d=25\n",
    "\n",
    "print(a,b,c,d)"
   ]
  },
  {
   "cell_type": "code",
   "execution_count": 17,
   "id": "4c53721c-7b07-4499-b4ed-6f7e57b09f5c",
   "metadata": {},
   "outputs": [
    {
     "name": "stdout",
     "output_type": "stream",
     "text": [
      "15\n"
     ]
    },
    {
     "data": {
      "text/plain": [
       "int"
      ]
     },
     "execution_count": 17,
     "metadata": {},
     "output_type": "execute_result"
    }
   ],
   "source": [
    "a=15\n",
    "print(a)\n",
    "type(a)"
   ]
  },
  {
   "cell_type": "code",
   "execution_count": 21,
   "id": "af3532cc-b713-4f8c-b36c-e0e2027cc7a3",
   "metadata": {},
   "outputs": [
    {
     "name": "stdout",
     "output_type": "stream",
     "text": [
      "2\n"
     ]
    },
    {
     "data": {
      "text/plain": [
       "str"
      ]
     },
     "execution_count": 21,
     "metadata": {},
     "output_type": "execute_result"
    }
   ],
   "source": [
    "a='2'\n",
    "print(a)\n",
    "type(a)"
   ]
  },
  {
   "cell_type": "code",
   "execution_count": 23,
   "id": "ac0b3c02-f88e-4cac-a30b-a356080c9cc3",
   "metadata": {},
   "outputs": [
    {
     "name": "stdout",
     "output_type": "stream",
     "text": [
      "25\n"
     ]
    }
   ],
   "source": [
    "# print function in Python 3\n",
    "a=10\n",
    "b=15\n",
    "c=a+b\n",
    "print(c)"
   ]
  },
  {
   "cell_type": "code",
   "execution_count": 25,
   "id": "0a8fb737-aaf6-4e01-8e50-8d67bcc601ba",
   "metadata": {},
   "outputs": [
    {
     "name": "stdout",
     "output_type": "stream",
     "text": [
      "45\n"
     ]
    }
   ],
   "source": [
    "a=20\n",
    "b=25\n",
    "print(a+b)"
   ]
  },
  {
   "cell_type": "code",
   "execution_count": 27,
   "id": "9a9018ca-b0a5-422f-b439-660cb75837f5",
   "metadata": {},
   "outputs": [
    {
     "name": "stdout",
     "output_type": "stream",
     "text": [
      "55\n"
     ]
    }
   ],
   "source": [
    "print(25+30)"
   ]
  },
  {
   "cell_type": "code",
   "execution_count": 29,
   "id": "d2f3d015-6f32-49aa-8b32-b47da9b23767",
   "metadata": {},
   "outputs": [
    {
     "name": "stdout",
     "output_type": "stream",
     "text": [
      "20:40:60:80\n"
     ]
    }
   ],
   "source": [
    "a=20\n",
    "b=40\n",
    "c=60\n",
    "d=80\n",
    "\n",
    "print(a,b,c,d,sep=\":\")"
   ]
  },
  {
   "cell_type": "code",
   "execution_count": 31,
   "id": "e33e78ff-f7eb-4eb5-ba75-1e58fb4b970b",
   "metadata": {},
   "outputs": [
    {
     "name": "stdout",
     "output_type": "stream",
     "text": [
      "The value of a :  18\n"
     ]
    }
   ],
   "source": [
    "a = 18\n",
    "print(\"The value of a : \",a)"
   ]
  },
  {
   "cell_type": "code",
   "execution_count": 35,
   "id": "b2887d69-6d07-41af-ac70-d598f16963d2",
   "metadata": {},
   "outputs": [],
   "source": [
    "first_name='Unmesha'\n",
    "last_name='Muduli'"
   ]
  },
  {
   "cell_type": "code",
   "execution_count": 37,
   "id": "968ef27c-2df6-4b61-acda-c5450f119151",
   "metadata": {},
   "outputs": [
    {
     "name": "stdout",
     "output_type": "stream",
     "text": [
      "Name Muduli Unmesha\n"
     ]
    }
   ],
   "source": [
    "print(\"Name\",last_name,first_name)"
   ]
  },
  {
   "cell_type": "code",
   "execution_count": 39,
   "id": "6bd5e3a7-3d5e-4a34-9683-619c068ab71b",
   "metadata": {},
   "outputs": [
    {
     "name": "stdout",
     "output_type": "stream",
     "text": [
      "My first name is: Unmesha and last name is: Muduli\n"
     ]
    }
   ],
   "source": [
    "print(\"My first name is:\",first_name,\"and last name is:\",last_name)"
   ]
  },
  {
   "cell_type": "code",
   "execution_count": 41,
   "id": "ca9eea08-79ef-4b15-9da4-ab62b18e55f1",
   "metadata": {},
   "outputs": [
    {
     "name": "stdout",
     "output_type": "stream",
     "text": [
      "My first name is: Unmesha and last name is: Muduli\n"
     ]
    }
   ],
   "source": [
    "print(\"My first name is: {} and last name is: {}\".format(first_name,last_name))"
   ]
  },
  {
   "cell_type": "code",
   "execution_count": 43,
   "id": "fb32807e-1f09-4e20-b6c6-e259f694335e",
   "metadata": {},
   "outputs": [
    {
     "name": "stdout",
     "output_type": "stream",
     "text": [
      "My First name is: Muduli and last name is: Muduli\n"
     ]
    }
   ],
   "source": [
    "#we can use keyword arguements to format the string\n",
    "print(\"My First name is: {first} and last name is: {first}\".format(last=last_name,first=last_name))"
   ]
  },
  {
   "cell_type": "code",
   "execution_count": 45,
   "id": "27474add-d99f-4501-b366-5f34931caea8",
   "metadata": {},
   "outputs": [
    {
     "name": "stdout",
     "output_type": "stream",
     "text": [
      "Hello Ankur Good Morning Ankur\n"
     ]
    }
   ],
   "source": [
    "print(\"Hello {name} {greeting} {name}\".format(name=\"Ankur\", greeting=\"Good Morning\"))"
   ]
  },
  {
   "cell_type": "code",
   "execution_count": 63,
   "id": "4b4594a6-a8f0-4df6-ad70-046e58f62957",
   "metadata": {},
   "outputs": [
    {
     "name": "stdout",
     "output_type": "stream",
     "text": [
      "The Best Trio is Unmesha, Ankur, and Partha\n"
     ]
    }
   ],
   "source": [
    "#we can combine combine positional arguement with keyword arguements\n",
    "print('The Best Trio is {}, {}, and {other}'.format('Unmesha', 'Ankur',other='Partha'))"
   ]
  },
  {
   "cell_type": "code",
   "execution_count": 59,
   "id": "585fa7cf-3634-49e9-9757-f8558e3f7316",
   "metadata": {},
   "outputs": [
    {
     "name": "stdout",
     "output_type": "stream",
     "text": [
      "My birthday is on September: 18 and my name is: Unmesha\n",
      "My birthday is on September: 18 and my name is: Unmesha\n",
      "My birthday in on September: 18 and my name is: Unmesha\n"
     ]
    }
   ],
   "source": [
    "num = 18\n",
    "name = 'Unmesha'\n",
    "print('My birthday is on September: {one} and my name is: {two}'.format(one=num,two=name))\n",
    "print('My birthday is on September: {one} and my name is: {two}'.format(one=num,two=name))\n",
    "print(\"My birthday in on September:\",num,\"and my name is:\",name)"
   ]
  },
  {
   "cell_type": "code",
   "execution_count": null,
   "id": "55dfad57-7731-422d-9320-e10ad0908f93",
   "metadata": {},
   "outputs": [],
   "source": []
  }
 ],
 "metadata": {
  "kernelspec": {
   "display_name": "Python 3 (ipykernel)",
   "language": "python",
   "name": "python3"
  },
  "language_info": {
   "codemirror_mode": {
    "name": "ipython",
    "version": 3
   },
   "file_extension": ".py",
   "mimetype": "text/x-python",
   "name": "python",
   "nbconvert_exporter": "python",
   "pygments_lexer": "ipython3",
   "version": "3.11.7"
  }
 },
 "nbformat": 4,
 "nbformat_minor": 5
}
