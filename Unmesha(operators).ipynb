{
 "cells": [
  {
   "cell_type": "code",
   "execution_count": 1,
   "id": "f24a4af9-36c3-4aa4-ab0a-d4124ac780d3",
   "metadata": {},
   "outputs": [
    {
     "data": {
      "text/plain": [
       "9"
      ]
     },
     "execution_count": 1,
     "metadata": {},
     "output_type": "execute_result"
    }
   ],
   "source": [
    "# Addition\n",
    "1+8"
   ]
  },
  {
   "cell_type": "code",
   "execution_count": 5,
   "id": "3ca06f84-1d59-4972-9df2-a82f78e377ab",
   "metadata": {},
   "outputs": [
    {
     "data": {
      "text/plain": [
       "4"
      ]
     },
     "execution_count": 5,
     "metadata": {},
     "output_type": "execute_result"
    }
   ],
   "source": [
    "# Substraction\n",
    "18-14"
   ]
  },
  {
   "cell_type": "code",
   "execution_count": 7,
   "id": "74dc919f-047c-455d-bf17-936bc85e4d95",
   "metadata": {},
   "outputs": [
    {
     "data": {
      "text/plain": [
       "72"
      ]
     },
     "execution_count": 7,
     "metadata": {},
     "output_type": "execute_result"
    }
   ],
   "source": [
    "# Multiplication\n",
    "8 * 9"
   ]
  },
  {
   "cell_type": "code",
   "execution_count": 9,
   "id": "e22ff2d3-dabb-4cbe-9475-f7983a394b0a",
   "metadata": {},
   "outputs": [
    {
     "data": {
      "text/plain": [
       "0.125"
      ]
     },
     "execution_count": 9,
     "metadata": {},
     "output_type": "execute_result"
    }
   ],
   "source": [
    "# Division\n",
    "1/8"
   ]
  },
  {
   "cell_type": "code",
   "execution_count": 11,
   "id": "99c995e2-0d9e-4793-ba4b-14bef06414eb",
   "metadata": {},
   "outputs": [
    {
     "data": {
      "text/plain": [
       "198359290368"
      ]
     },
     "execution_count": 11,
     "metadata": {},
     "output_type": "execute_result"
    }
   ],
   "source": [
    "# power/exponent\n",
    "18**9"
   ]
  },
  {
   "cell_type": "code",
   "execution_count": 15,
   "id": "a26f7c0c-03d3-44ea-a276-660a4fba2178",
   "metadata": {},
   "outputs": [
    {
     "data": {
      "text/plain": [
       "2"
      ]
     },
     "execution_count": 15,
     "metadata": {},
     "output_type": "execute_result"
    }
   ],
   "source": [
    "# floor division\n",
    "18//9"
   ]
  },
  {
   "cell_type": "code",
   "execution_count": 17,
   "id": "a4a33657-9145-4d47-9baf-d62011bac479",
   "metadata": {},
   "outputs": [
    {
     "data": {
      "text/plain": [
       "0"
      ]
     },
     "execution_count": 17,
     "metadata": {},
     "output_type": "execute_result"
    }
   ],
   "source": [
    "# Modulo --> remainder\n",
    "18%9"
   ]
  },
  {
   "cell_type": "code",
   "execution_count": 19,
   "id": "717aa6e1-01b6-483e-9ec2-b5266e4c4a2c",
   "metadata": {},
   "outputs": [
    {
     "data": {
      "text/plain": [
       "90"
      ]
     },
     "execution_count": 19,
     "metadata": {},
     "output_type": "execute_result"
    }
   ],
   "source": [
    "# parantasis\n",
    "(1 + 8) * (9 + 1)"
   ]
  },
  {
   "cell_type": "code",
   "execution_count": 21,
   "id": "9e06fa85-d8c6-462b-928a-148515364110",
   "metadata": {},
   "outputs": [
    {
     "name": "stdout",
     "output_type": "stream",
     "text": [
      "378\n",
      "0.8571428571428571\n",
      "18\n"
     ]
    }
   ],
   "source": [
    "## Mathematical operation with  Variable Assignment\n",
    "a=18\n",
    "b=21\n",
    "print(a*b)\n",
    "print(a/b)\n",
    "print(a%b)"
   ]
  },
  {
   "cell_type": "code",
   "execution_count": 23,
   "id": "3be14e51-666c-4289-9acb-d2a869f58e41",
   "metadata": {},
   "outputs": [
    {
     "data": {
      "text/plain": [
       "18.0"
      ]
     },
     "execution_count": 23,
     "metadata": {},
     "output_type": "execute_result"
    }
   ],
   "source": [
    "a-b*a/b+a ##BODMAS"
   ]
  },
  {
   "cell_type": "code",
   "execution_count": 25,
   "id": "2c711e2d-f388-4f39-8cc8-7c8a23683533",
   "metadata": {},
   "outputs": [
    {
     "data": {
      "text/plain": [
       "17"
      ]
     },
     "execution_count": 25,
     "metadata": {},
     "output_type": "execute_result"
    }
   ],
   "source": [
    "(1*(8+9))"
   ]
  },
  {
   "cell_type": "code",
   "execution_count": 27,
   "id": "d5c5eb28-985b-487a-8eda-c36edbd306e8",
   "metadata": {},
   "outputs": [
    {
     "data": {
      "text/plain": [
       "2"
      ]
     },
     "execution_count": 27,
     "metadata": {},
     "output_type": "execute_result"
    }
   ],
   "source": [
    "8//1%9+2**1-8"
   ]
  },
  {
   "cell_type": "code",
   "execution_count": 29,
   "id": "eac1daec-4a99-4bbc-bfd4-902c7d99ce60",
   "metadata": {},
   "outputs": [
    {
     "data": {
      "text/plain": [
       "1.0"
      ]
     },
     "execution_count": 29,
     "metadata": {},
     "output_type": "execute_result"
    }
   ],
   "source": [
    "1//8*9/2+21%2**1"
   ]
  },
  {
   "cell_type": "code",
   "execution_count": 31,
   "id": "39e9243e-06b7-4c9e-9462-8c6fd5036e08",
   "metadata": {},
   "outputs": [
    {
     "data": {
      "text/plain": [
       "True"
      ]
     },
     "execution_count": 31,
     "metadata": {},
     "output_type": "execute_result"
    }
   ],
   "source": [
    "# greater than\n",
    "18>14"
   ]
  },
  {
   "cell_type": "code",
   "execution_count": 33,
   "id": "3575164f-2d7c-4eee-bf0b-b7cc34913f25",
   "metadata": {},
   "outputs": [
    {
     "data": {
      "text/plain": [
       "False"
      ]
     },
     "execution_count": 33,
     "metadata": {},
     "output_type": "execute_result"
    }
   ],
   "source": [
    "# less than\n",
    "14>18"
   ]
  },
  {
   "cell_type": "code",
   "execution_count": 35,
   "id": "70a58e75-98c4-4f24-b1cf-2c917f05fd62",
   "metadata": {},
   "outputs": [
    {
     "data": {
      "text/plain": [
       "False"
      ]
     },
     "execution_count": 35,
     "metadata": {},
     "output_type": "execute_result"
    }
   ],
   "source": [
    "8*8 < 7*7"
   ]
  },
  {
   "cell_type": "code",
   "execution_count": 39,
   "id": "b67bbb16-19f0-45fe-9e98-247c69b11fc8",
   "metadata": {},
   "outputs": [
    {
     "data": {
      "text/plain": [
       "True"
      ]
     },
     "execution_count": 39,
     "metadata": {},
     "output_type": "execute_result"
    }
   ],
   "source": [
    "# equal \n",
    "18 == 18"
   ]
  },
  {
   "cell_type": "code",
   "execution_count": 41,
   "id": "a857c44e-20d2-44bf-ace6-1d00fd65fd56",
   "metadata": {},
   "outputs": [
    {
     "data": {
      "text/plain": [
       "True"
      ]
     },
     "execution_count": 41,
     "metadata": {},
     "output_type": "execute_result"
    }
   ],
   "source": [
    "# not equal\n",
    "1!=8"
   ]
  },
  {
   "cell_type": "code",
   "execution_count": 43,
   "id": "b5265343-0317-40df-af53-29f6efa4d710",
   "metadata": {},
   "outputs": [
    {
     "data": {
      "text/plain": [
       "True"
      ]
     },
     "execution_count": 43,
     "metadata": {},
     "output_type": "execute_result"
    }
   ],
   "source": [
    "# greater than or equal to\n",
    "8 >= 8"
   ]
  },
  {
   "cell_type": "code",
   "execution_count": 45,
   "id": "21c82d33-a25d-402a-a18a-3ca114232a37",
   "metadata": {},
   "outputs": [
    {
     "data": {
      "text/plain": [
       "True"
      ]
     },
     "execution_count": 45,
     "metadata": {},
     "output_type": "execute_result"
    }
   ],
   "source": [
    "# less than equal to\n",
    "1 <= 8"
   ]
  },
  {
   "cell_type": "code",
   "execution_count": 47,
   "id": "3ea128fe-116b-44c6-80ca-b71a72e03f79",
   "metadata": {},
   "outputs": [
    {
     "data": {
      "text/plain": [
       "True"
      ]
     },
     "execution_count": 47,
     "metadata": {},
     "output_type": "execute_result"
    }
   ],
   "source": [
    "14==14.0"
   ]
  },
  {
   "cell_type": "code",
   "execution_count": 51,
   "id": "87129d3d-1a2e-428c-a3e7-b01515316e53",
   "metadata": {},
   "outputs": [
    {
     "data": {
      "text/plain": [
       "False"
      ]
     },
     "execution_count": 51,
     "metadata": {},
     "output_type": "execute_result"
    }
   ],
   "source": [
    "'um' == 'UM'"
   ]
  },
  {
   "cell_type": "code",
   "execution_count": 53,
   "id": "5d9ccf24-c9a8-48d4-b534-c1f3852869fc",
   "metadata": {},
   "outputs": [
    {
     "data": {
      "text/plain": [
       "'0b111110100'"
      ]
     },
     "execution_count": 53,
     "metadata": {},
     "output_type": "execute_result"
    }
   ],
   "source": [
    "bin(500)"
   ]
  },
  {
   "cell_type": "code",
   "execution_count": 57,
   "id": "641894d6-9bbe-4c42-ba89-ebc2c854a8c7",
   "metadata": {},
   "outputs": [
    {
     "data": {
      "text/plain": [
       "500"
      ]
     },
     "execution_count": 57,
     "metadata": {},
     "output_type": "execute_result"
    }
   ],
   "source": [
    "0b111110100"
   ]
  },
  {
   "cell_type": "code",
   "execution_count": 59,
   "id": "8674b09e-4311-4070-8c46-7a4aab6ba8fc",
   "metadata": {},
   "outputs": [
    {
     "name": "stdout",
     "output_type": "stream",
     "text": [
      "9\n"
     ]
    }
   ],
   "source": [
    "a = 1\n",
    "b = 8\n",
    "\n",
    "print(a|b)"
   ]
  },
  {
   "cell_type": "code",
   "execution_count": 61,
   "id": "bdc99afc-c547-43fe-95da-05291cc51321",
   "metadata": {},
   "outputs": [
    {
     "name": "stdout",
     "output_type": "stream",
     "text": [
      "0\n"
     ]
    }
   ],
   "source": [
    "a = 1\n",
    "b = 4\n",
    "\n",
    "print(a & b)"
   ]
  },
  {
   "cell_type": "code",
   "execution_count": 63,
   "id": "cd92b904-4166-4975-ac99-cab9fa4bc765",
   "metadata": {},
   "outputs": [
    {
     "data": {
      "text/plain": [
       "9"
      ]
     },
     "execution_count": 63,
     "metadata": {},
     "output_type": "execute_result"
    }
   ],
   "source": [
    "8|9"
   ]
  },
  {
   "cell_type": "code",
   "execution_count": 65,
   "id": "0f797b32-bc5a-4cc1-ba84-76e8d6cabe41",
   "metadata": {},
   "outputs": [
    {
     "data": {
      "text/plain": [
       "8"
      ]
     },
     "execution_count": 65,
     "metadata": {},
     "output_type": "execute_result"
    }
   ],
   "source": [
    "8&9"
   ]
  },
  {
   "cell_type": "code",
   "execution_count": 67,
   "id": "4ced351b-f2c9-424b-a602-c34abc901177",
   "metadata": {},
   "outputs": [
    {
     "data": {
      "text/plain": [
       "True"
      ]
     },
     "execution_count": 67,
     "metadata": {},
     "output_type": "execute_result"
    }
   ],
   "source": [
    "(1 < 8) or (9 > 1)"
   ]
  },
  {
   "cell_type": "code",
   "execution_count": 69,
   "id": "121d7d2f-8b6f-4bfb-adc0-3164a762c73d",
   "metadata": {},
   "outputs": [
    {
     "data": {
      "text/plain": [
       "True"
      ]
     },
     "execution_count": 69,
     "metadata": {},
     "output_type": "execute_result"
    }
   ],
   "source": [
    "(1 < 8) and (9 > 1)"
   ]
  },
  {
   "cell_type": "code",
   "execution_count": 71,
   "id": "329ea18b-a788-4837-9c76-5334fce110d3",
   "metadata": {},
   "outputs": [
    {
     "data": {
      "text/plain": [
       "False"
      ]
     },
     "execution_count": 71,
     "metadata": {},
     "output_type": "execute_result"
    }
   ],
   "source": [
    "not True"
   ]
  },
  {
   "cell_type": "code",
   "execution_count": 73,
   "id": "963b139b-0412-47b0-989a-b95c9427a22f",
   "metadata": {},
   "outputs": [
    {
     "data": {
      "text/plain": [
       "True"
      ]
     },
     "execution_count": 73,
     "metadata": {},
     "output_type": "execute_result"
    }
   ],
   "source": [
    "not False"
   ]
  },
  {
   "cell_type": "code",
   "execution_count": 75,
   "id": "0ca8fdba-6ecd-484d-b54e-d0729588277a",
   "metadata": {},
   "outputs": [
    {
     "data": {
      "text/plain": [
       "True"
      ]
     },
     "execution_count": 75,
     "metadata": {},
     "output_type": "execute_result"
    }
   ],
   "source": [
    "my_str='Unmesha'\n",
    "\n",
    "my_str.isalpha() or str_example.isnum"
   ]
  },
  {
   "cell_type": "code",
   "execution_count": 79,
   "id": "f512fd29-b8eb-483b-ab86-7e9a81beb53d",
   "metadata": {},
   "outputs": [
    {
     "data": {
      "text/plain": [
       "False"
      ]
     },
     "execution_count": 79,
     "metadata": {},
     "output_type": "execute_result"
    }
   ],
   "source": [
    "(18 == 18) and (1 == 9) or (20 == 11)"
   ]
  },
  {
   "cell_type": "code",
   "execution_count": 81,
   "id": "0d88064e-d454-46be-a0a0-aece116d8ee5",
   "metadata": {},
   "outputs": [
    {
     "data": {
      "text/plain": [
       "18"
      ]
     },
     "execution_count": 81,
     "metadata": {},
     "output_type": "execute_result"
    }
   ],
   "source": [
    "a = 18\n",
    "a"
   ]
  },
  {
   "cell_type": "code",
   "execution_count": 83,
   "id": "574ede8e-0fa7-4b77-9ec1-0eacd3ac5b06",
   "metadata": {},
   "outputs": [
    {
     "name": "stdout",
     "output_type": "stream",
     "text": [
      "26\n"
     ]
    }
   ],
   "source": [
    "a = a+8\n",
    "print(a)"
   ]
  },
  {
   "cell_type": "code",
   "execution_count": 85,
   "id": "df887235-268d-4b31-8c97-c3db2a5171bc",
   "metadata": {},
   "outputs": [
    {
     "data": {
      "text/plain": [
       "34"
      ]
     },
     "execution_count": 85,
     "metadata": {},
     "output_type": "execute_result"
    }
   ],
   "source": [
    "a+=8\n",
    "a"
   ]
  },
  {
   "cell_type": "code",
   "execution_count": 89,
   "id": "847e7ca0-2be3-4c60-aeca-b0773f18eac9",
   "metadata": {},
   "outputs": [
    {
     "data": {
      "text/plain": [
       "17"
      ]
     },
     "execution_count": 89,
     "metadata": {},
     "output_type": "execute_result"
    }
   ],
   "source": [
    "a-=9\n",
    "a"
   ]
  },
  {
   "cell_type": "code",
   "execution_count": 91,
   "id": "47d91f07-7336-4c4f-8057-9d9d2ceebcbe",
   "metadata": {},
   "outputs": [
    {
     "name": "stdout",
     "output_type": "stream",
     "text": [
      "True\n"
     ]
    }
   ],
   "source": [
    "a = 2\n",
    "b = 2\n",
    "print(a is b)"
   ]
  },
  {
   "cell_type": "code",
   "execution_count": 95,
   "id": "3cbfe707-b618-4be3-8a7e-4642cde0522c",
   "metadata": {},
   "outputs": [
    {
     "name": "stdout",
     "output_type": "stream",
     "text": [
      "False\n"
     ]
    }
   ],
   "source": [
    "s1 = \"Unmesha\"\n",
    "s2 = \"unmesha\"\n",
    "print(s1 is s2)"
   ]
  },
  {
   "cell_type": "code",
   "execution_count": 97,
   "id": "59122a89-763f-4aec-bfc4-92a35ff4e22c",
   "metadata": {},
   "outputs": [
    {
     "data": {
      "text/plain": [
       "True"
      ]
     },
     "execution_count": 97,
     "metadata": {},
     "output_type": "execute_result"
    }
   ],
   "source": [
    "a = 1\n",
    "b = 8\n",
    "a is not b"
   ]
  },
  {
   "cell_type": "code",
   "execution_count": 99,
   "id": "278e0304-2de7-4a40-90ab-868d79c0f4e9",
   "metadata": {},
   "outputs": [
    {
     "data": {
      "text/plain": [
       "True"
      ]
     },
     "execution_count": 99,
     "metadata": {},
     "output_type": "execute_result"
    }
   ],
   "source": [
    "a = 'Unmesha'\n",
    "'sha' in a "
   ]
  },
  {
   "cell_type": "code",
   "execution_count": 103,
   "id": "77bee0b0-1c8d-4790-a0e6-2f9121999311",
   "metadata": {},
   "outputs": [
    {
     "data": {
      "text/plain": [
       "True"
      ]
     },
     "execution_count": 103,
     "metadata": {},
     "output_type": "execute_result"
    }
   ],
   "source": [
    "lst = [9, 8, 7, 6]\n",
    "7 in lst"
   ]
  },
  {
   "cell_type": "code",
   "execution_count": 105,
   "id": "d39a0593-5f94-4f8e-8839-62337d77fd2e",
   "metadata": {},
   "outputs": [
    {
     "data": {
      "text/plain": [
       "True"
      ]
     },
     "execution_count": 105,
     "metadata": {},
     "output_type": "execute_result"
    }
   ],
   "source": [
    "a=[4,5,6,7]\n",
    "8 not in a"
   ]
  },
  {
   "cell_type": "code",
   "execution_count": null,
   "id": "562483d6-2923-4740-ace9-485208891c2d",
   "metadata": {},
   "outputs": [],
   "source": []
  }
 ],
 "metadata": {
  "kernelspec": {
   "display_name": "Python 3 (ipykernel)",
   "language": "python",
   "name": "python3"
  },
  "language_info": {
   "codemirror_mode": {
    "name": "ipython",
    "version": 3
   },
   "file_extension": ".py",
   "mimetype": "text/x-python",
   "name": "python",
   "nbconvert_exporter": "python",
   "pygments_lexer": "ipython3",
   "version": "3.11.7"
  }
 },
 "nbformat": 4,
 "nbformat_minor": 5
}
